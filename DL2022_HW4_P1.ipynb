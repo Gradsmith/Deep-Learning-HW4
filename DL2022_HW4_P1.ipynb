{
  "nbformat": 4,
  "nbformat_minor": 0,
  "metadata": {
    "colab": {
      "provenance": [],
      "toc_visible": true,
      "authorship_tag": "ABX9TyMmU0OO5INW8c3eTX4yIghG",
      "include_colab_link": true
    },
    "kernelspec": {
      "name": "python3",
      "display_name": "Python 3"
    },
    "language_info": {
      "name": "python"
    },
    "gpuClass": "standard"
  },
  "cells": [
    {
      "cell_type": "markdown",
      "metadata": {
        "id": "view-in-github",
        "colab_type": "text"
      },
      "source": [
        "<a href=\"https://colab.research.google.com/github/Gradsmith/Deep-Learning-HW4/blob/main/DL2022_HW4_P1.ipynb\" target=\"_parent\"><img src=\"https://colab.research.google.com/assets/colab-badge.svg\" alt=\"Open In Colab\"/></a>"
      ]
    },
    {
      "cell_type": "code",
      "source": [
        "from collections import Counter\n",
        "\n",
        "import matplotlib.pyplot as plt\n",
        "import numpy as np\n",
        "from keras.layers import (GRU, LSTM, Bidirectional, Dense, Dropout, Embedding,\n",
        "                          Flatten, Input, RepeatVector, TimeDistributed)\n",
        "from keras.models import Model\n",
        "from keras.preprocessing.text import Tokenizer\n",
        "from keras.utils import pad_sequences, plot_model\n",
        "import seaborn as sns"
      ],
      "metadata": {
        "id": "T4e61l-BBrGG"
      },
      "execution_count": null,
      "outputs": []
    },
    {
      "cell_type": "code",
      "execution_count": null,
      "metadata": {
        "colab": {
          "base_uri": "https://localhost:8080/"
        },
        "id": "jB0kmpHFAaaz",
        "outputId": "44ddf5d7-06a8-40a0-8ecb-e92e3198945c"
      },
      "outputs": [
        {
          "output_type": "stream",
          "name": "stdout",
          "text": [
            "Downloading...\n",
            "From: https://drive.google.com/uc?id=1aRxzZTQnxL1N3d2Pii6H461FjjQk6hNN\n",
            "To: /content/ferdousi.txt\n",
            "\r  0% 0.00/4.54M [00:00<?, ?B/s]\r100% 4.54M/4.54M [00:00<00:00, 22.1MB/s]\r100% 4.54M/4.54M [00:00<00:00, 22.1MB/s]\n"
          ]
        }
      ],
      "source": [
        "# Download ferdousi.txt from drive.\n",
        "!gdown 1aRxzZTQnxL1N3d2Pii6H461FjjQk6hNN"
      ]
    },
    {
      "cell_type": "code",
      "source": [
        "# Read the entire text file.\n",
        "with open ('./ferdousi.txt', 'r') as f:\n",
        "    dataset = f.read().split('\\n')"
      ],
      "metadata": {
        "id": "_ZAGKnqCgMQD"
      },
      "execution_count": null,
      "outputs": []
    },
    {
      "cell_type": "code",
      "source": [
        "# Seperate beyts and split them into odd and even beyts for encoder and decoder inputs.\n",
        "beyts = []\n",
        "for i in range(int(len(dataset)/2)-1):\n",
        "    beyts.append(dataset[2+2*i]+' '+dataset[2+2*i+1])\n",
        "\n",
        "beyts_in = beyts[0::2]\n",
        "beyts_out = beyts[1::2]"
      ],
      "metadata": {
        "id": "KKC5VVMe4cPg"
      },
      "execution_count": null,
      "outputs": []
    },
    {
      "cell_type": "code",
      "source": [
        "# Define a Keras tokenizer and fit it on the beyts.\n",
        "tokenizer = Tokenizer()\n",
        "\n",
        "tokenizer.fit_on_texts(beyts)\n",
        "vocab_size = len(tokenizer.word_index) + 1"
      ],
      "metadata": {
        "id": "4PnZp2PIuy4e"
      },
      "execution_count": null,
      "outputs": []
    },
    {
      "cell_type": "markdown",
      "source": [
        "Now, we plot the histogram of number of words in beyts and select an appropriate length to pad all beyts based on the histogram."
      ],
      "metadata": {
        "id": "6YeSrZVm77Mj"
      }
    },
    {
      "cell_type": "code",
      "source": [
        "h = sorted([len(b.split()) for b in beyts])\n",
        "h = [str(i) for i in h]\n",
        "plt.figure(figsize=(10, 8))\n",
        "sns.histplot(h, color='green')\n",
        "plt.grid()\n",
        "plt.xlabel('Number of Words in a Beyt')\n",
        "plt.title('Histogram of Number of Words in Beyts')\n",
        "plt.show()"
      ],
      "metadata": {
        "colab": {
          "base_uri": "https://localhost:8080/",
          "height": 513
        },
        "id": "voEl3iCX10vu",
        "outputId": "80fc96a8-4e99-444a-d102-09c694056d62"
      },
      "execution_count": null,
      "outputs": [
        {
          "output_type": "display_data",
          "data": {
            "text/plain": [
              "<Figure size 720x576 with 1 Axes>"
            ],
            "image/png": "[encoded data removed]"
          },
          "metadata": {
            "needs_background": "light"
          }
        }
      ]
    },
    {
      "cell_type": "markdown",
      "source": [
        "As can be seen, most of the beyts have a length of shorter than 17 words, so we choose 16 as our max padding length."
      ],
      "metadata": {
        "id": "nrs_I8ZP8quX"
      }
    },
    {
      "cell_type": "code",
      "source": [
        "max_seq_len = 16"
      ],
      "metadata": {
        "id": "BxRkYB_G131m"
      },
      "execution_count": null,
      "outputs": []
    },
    {
      "cell_type": "code",
      "source": [
        "# Convert texts to sequences with the tokenizer.\n",
        "beyts_in = tokenizer.texts_to_sequences(beyts_in)\n",
        "beyts_in = pad_sequences(beyts_in, maxlen=max_seq_len, padding='post')\n",
        "\n",
        "beyts_out = tokenizer.texts_to_sequences(beyts_out)\n",
        "beyts_out = pad_sequences(beyts_out, maxlen=max_seq_len, padding='post')\n",
        "\n",
        "# Create a shifted version of decoder outputs to use for teacher forcing.\n",
        "beyts_out_tf = np.zeros(beyts_out.shape, dtype=np.int32)\n",
        "beyts_out_tf[:, 1:] = beyts_out[:, :-1]"
      ],
      "metadata": {
        "id": "tNKbeXShu0ps"
      },
      "execution_count": null,
      "outputs": []
    },
    {
      "cell_type": "markdown",
      "source": [
        "# Part A: LSTM"
      ],
      "metadata": {
        "id": "mJXBI-JX8iYP"
      }
    },
    {
      "cell_type": "markdown",
      "source": [
        "In this part we define an encoder-decoder model with LSTM modules and train it with teacher forcing method. The words are embedded to a 256D space with an embedding layer."
      ],
      "metadata": {
        "id": "yrDhQsqVF4iU"
      }
    },
    {
      "cell_type": "code",
      "source": [
        "n_embed = 256\n",
        "\n",
        "# Training encoder\n",
        "encoder_inputs = Input(shape=(max_seq_len))\n",
        "embedding_layer = Embedding(vocab_size, n_embed, input_length=max_seq_len, mask_zero=True)\n",
        "encoder_inputs_embedded = embedding_layer(encoder_inputs)\n",
        "encoder = LSTM(n_embed, return_state=True)\n",
        "encoder_outputs, state_h, state_c = encoder(encoder_inputs_embedded)\n",
        "encoder_states = [state_h, state_c]\n",
        "# Training decoder\n",
        "decoder_inputs = Input(shape=(max_seq_len))\n",
        "decoder_inputs_embedded = embedding_layer(decoder_inputs)\n",
        "decoder = LSTM(n_embed, return_sequences=True, return_state=True)\n",
        "decoder_outputs, _, _ = decoder(decoder_inputs_embedded, initial_state=encoder_states)\n",
        "decoder_dense = Dense(vocab_size, activation='softmax')\n",
        "decoder_outputs = decoder_dense(decoder_outputs)\n",
        "model = Model([encoder_inputs, decoder_inputs], decoder_outputs)\n",
        "\n",
        "\n",
        "# Inference encoder\n",
        "encoder_model = Model(encoder_inputs, encoder_states)\n",
        "# Inference decoder\n",
        "decoder_state_input_h = Input(shape=(n_embed))\n",
        "decoder_state_input_c = Input(shape=(n_embed))\n",
        "decoder_states_inputs = [decoder_state_input_h, decoder_state_input_c]\n",
        "decoder_outputs, state_h, state_c = decoder(decoder_inputs_embedded, initial_state=decoder_states_inputs)\n",
        "decoder_states = [state_h, state_c]\n",
        "decoder_outputs = decoder_dense(decoder_outputs)\n",
        "decoder_model = Model([decoder_inputs] + decoder_states_inputs, [decoder_outputs] + decoder_states)"
      ],
      "metadata": {
        "id": "U35lzmX77u5i"
      },
      "execution_count": null,
      "outputs": []
    },
    {
      "cell_type": "code",
      "source": [
        "# Use ADAM as the optimizer and accuracy as the metric.\n",
        "model.compile(optimizer='adam', loss='sparse_categorical_crossentropy', metrics=['accuracy'])\n",
        "# Print the model architecture.\n",
        "print(model.summary())"
      ],
      "metadata": {
        "colab": {
          "base_uri": "https://localhost:8080/"
        },
        "id": "0KCXM5BC7uzj",
        "outputId": "60b4e59a-c86f-4356-ad10-3f23a822f8d1"
      },
      "execution_count": null,
      "outputs": [
        {
          "output_type": "stream",
          "name": "stdout",
          "text": [
            "Model: \"model\"\n",
            "__________________________________________________________________________________________________\n",
            " Layer (type)                   Output Shape         Param #     Connected to                     \n",
            "==================================================================================================\n",
            " input_2 (InputLayer)           [(None, 16)]         0           []                               \n",
            "                                                                                                  \n",
            " input_1 (InputLayer)           [(None, 16)]         0           []                               \n",
            "                                                                                                  \n",
            " embedding (Embedding)          (None, 16, 256)      4609792     ['input_1[0][0]',                \n",
            "                                                                  'input_2[0][0]']                \n",
            "                                                                                                  \n",
            " lstm (LSTM)                    [(None, 256),        525312      ['embedding[0][0]']              \n",
            "                                 (None, 256),                                                     \n",
            "                                 (None, 256)]                                                     \n",
            "                                                                                                  \n",
            " lstm_1 (LSTM)                  [(None, 16, 256),    525312      ['embedding[1][0]',              \n",
            "                                 (None, 256),                     'lstm[0][1]',                   \n",
            "                                 (None, 256)]                     'lstm[0][2]']                   \n",
            "                                                                                                  \n",
            " dense (Dense)                  (None, 16, 18007)    4627799     ['lstm_1[0][0]']                 \n",
            "                                                                                                  \n",
            "==================================================================================================\n",
            "Total params: 10,288,215\n",
            "Trainable params: 10,288,215\n",
            "Non-trainable params: 0\n",
            "__________________________________________________________________________________________________\n",
            "None\n"
          ]
        }
      ]
    },
    {
      "cell_type": "code",
      "source": [
        "# Plot the model architecture.\n",
        "plot_model(model, to_file='LSTM.png')"
      ],
      "metadata": {
        "colab": {
          "base_uri": "https://localhost:8080/",
          "height": 466
        },
        "id": "rHESeD_AMUWF",
        "outputId": "9ab5c60e-f829-4fc8-93c8-9184f89046d4"
      },
      "execution_count": null,
      "outputs": [
        {
          "output_type": "execute_result",
          "data": {
            "image/png": "[encoded data removed]",
            "text/plain": [
              "<IPython.core.display.Image object>"
            ]
          },
          "metadata": {},
          "execution_count": 11
        }
      ]
    },
    {
      "cell_type": "code",
      "source": [
        "# Train the model.\n",
        "history = model.fit([beyts_in, beyts_out_tf], beyts_out, validation_split=0.2, epochs=50, batch_size=128)"
      ],
      "metadata": {
        "colab": {
          "base_uri": "https://localhost:8080/"
        },
        "id": "5Sz4mN9L7ufo",
        "outputId": "ff5b1450-4180-4298-e9f4-6e5c00cac117"
      },
      "execution_count": null,
      "outputs": [
        {
          "output_type": "stream",
          "name": "stdout",
          "text": [
            "Epoch 1/50\n",
            "156/156 [==============================] - 32s 130ms/step - loss: 5.0539 - accuracy: 0.0969 - val_loss: 4.8183 - val_accuracy: 0.1076\n",
            "Epoch 2/50\n",
            "156/156 [==============================] - 17s 109ms/step - loss: 4.6332 - accuracy: 0.1158 - val_loss: 4.7098 - val_accuracy: 0.1196\n",
            "Epoch 3/50\n",
            "156/156 [==============================] - 17s 106ms/step - loss: 4.4585 - accuracy: 0.1327 - val_loss: 4.6113 - val_accuracy: 0.1364\n",
            "Epoch 4/50\n",
            "156/156 [==============================] - 17s 107ms/step - loss: 4.3128 - accuracy: 0.1488 - val_loss: 4.5399 - val_accuracy: 0.1475\n",
            "Epoch 5/50\n",
            "156/156 [==============================] - 17s 106ms/step - loss: 4.1796 - accuracy: 0.1620 - val_loss: 4.4455 - val_accuracy: 0.1572\n",
            "Epoch 6/50\n",
            "156/156 [==============================] - 17s 107ms/step - loss: 4.0490 - accuracy: 0.1744 - val_loss: 4.3739 - val_accuracy: 0.1643\n",
            "Epoch 7/50\n",
            "156/156 [==============================] - 17s 107ms/step - loss: 3.9292 - accuracy: 0.1840 - val_loss: 4.3182 - val_accuracy: 0.1717\n",
            "Epoch 8/50\n",
            "156/156 [==============================] - 17s 108ms/step - loss: 3.8272 - accuracy: 0.1924 - val_loss: 4.2846 - val_accuracy: 0.1752\n",
            "Epoch 9/50\n",
            "156/156 [==============================] - 17s 112ms/step - loss: 3.7357 - accuracy: 0.2004 - val_loss: 4.2836 - val_accuracy: 0.1740\n",
            "Epoch 10/50\n",
            "156/156 [==============================] - 17s 108ms/step - loss: 3.6527 - accuracy: 0.2069 - val_loss: 4.2449 - val_accuracy: 0.1798\n",
            "Epoch 11/50\n",
            "156/156 [==============================] - 17s 108ms/step - loss: 3.5731 - accuracy: 0.2143 - val_loss: 4.2047 - val_accuracy: 0.1877\n",
            "Epoch 12/50\n",
            "156/156 [==============================] - 17s 108ms/step - loss: 3.4975 - accuracy: 0.2211 - val_loss: 4.1941 - val_accuracy: 0.1914\n",
            "Epoch 13/50\n",
            "156/156 [==============================] - 17s 109ms/step - loss: 3.4263 - accuracy: 0.2276 - val_loss: 4.2057 - val_accuracy: 0.1869\n",
            "Epoch 14/50\n",
            "156/156 [==============================] - 17s 107ms/step - loss: 3.3587 - accuracy: 0.2333 - val_loss: 4.1632 - val_accuracy: 0.1968\n",
            "Epoch 15/50\n",
            "156/156 [==============================] - 17s 107ms/step - loss: 3.2914 - accuracy: 0.2397 - val_loss: 4.1666 - val_accuracy: 0.1978\n",
            "Epoch 16/50\n",
            "156/156 [==============================] - 17s 107ms/step - loss: 3.2296 - accuracy: 0.2450 - val_loss: 4.1558 - val_accuracy: 0.1973\n",
            "Epoch 17/50\n",
            "156/156 [==============================] - 17s 107ms/step - loss: 3.1685 - accuracy: 0.2521 - val_loss: 4.1586 - val_accuracy: 0.1987\n",
            "Epoch 18/50\n",
            "156/156 [==============================] - 17s 108ms/step - loss: 3.1081 - accuracy: 0.2582 - val_loss: 4.1477 - val_accuracy: 0.2028\n",
            "Epoch 19/50\n",
            "156/156 [==============================] - 17s 107ms/step - loss: 3.0507 - accuracy: 0.2639 - val_loss: 4.1502 - val_accuracy: 0.2021\n",
            "Epoch 20/50\n",
            "156/156 [==============================] - 17s 107ms/step - loss: 2.9955 - accuracy: 0.2703 - val_loss: 4.1524 - val_accuracy: 0.2042\n",
            "Epoch 21/50\n",
            "156/156 [==============================] - 17s 107ms/step - loss: 2.9415 - accuracy: 0.2763 - val_loss: 4.1580 - val_accuracy: 0.2050\n",
            "Epoch 22/50\n",
            "156/156 [==============================] - 17s 108ms/step - loss: 2.8899 - accuracy: 0.2827 - val_loss: 4.1569 - val_accuracy: 0.2081\n",
            "Epoch 23/50\n",
            "156/156 [==============================] - 17s 111ms/step - loss: 2.8403 - accuracy: 0.2894 - val_loss: 4.1860 - val_accuracy: 0.2033\n",
            "Epoch 24/50\n",
            "156/156 [==============================] - 17s 107ms/step - loss: 2.7931 - accuracy: 0.2951 - val_loss: 4.1643 - val_accuracy: 0.2105\n",
            "Epoch 25/50\n",
            "156/156 [==============================] - 17s 106ms/step - loss: 2.7455 - accuracy: 0.3019 - val_loss: 4.1776 - val_accuracy: 0.2110\n",
            "Epoch 26/50\n",
            "156/156 [==============================] - 17s 107ms/step - loss: 2.6995 - accuracy: 0.3089 - val_loss: 4.1883 - val_accuracy: 0.2122\n",
            "Epoch 27/50\n",
            "156/156 [==============================] - 17s 107ms/step - loss: 2.6545 - accuracy: 0.3161 - val_loss: 4.2017 - val_accuracy: 0.2112\n",
            "Epoch 28/50\n",
            "156/156 [==============================] - 17s 107ms/step - loss: 2.6125 - accuracy: 0.3224 - val_loss: 4.2256 - val_accuracy: 0.2084\n",
            "Epoch 29/50\n",
            "156/156 [==============================] - 17s 108ms/step - loss: 2.5692 - accuracy: 0.3305 - val_loss: 4.2719 - val_accuracy: 0.2040\n",
            "Epoch 30/50\n",
            "156/156 [==============================] - 17s 107ms/step - loss: 2.5300 - accuracy: 0.3370 - val_loss: 4.2432 - val_accuracy: 0.2110\n",
            "Epoch 31/50\n",
            "156/156 [==============================] - 16s 105ms/step - loss: 2.4898 - accuracy: 0.3443 - val_loss: 4.2558 - val_accuracy: 0.2130\n",
            "Epoch 32/50\n",
            "156/156 [==============================] - 16s 106ms/step - loss: 2.4495 - accuracy: 0.3526 - val_loss: 4.2808 - val_accuracy: 0.2096\n",
            "Epoch 33/50\n",
            "156/156 [==============================] - 16s 105ms/step - loss: 2.4121 - accuracy: 0.3598 - val_loss: 4.3002 - val_accuracy: 0.2131\n",
            "Epoch 34/50\n",
            "156/156 [==============================] - 16s 105ms/step - loss: 2.3833 - accuracy: 0.3645 - val_loss: 4.3826 - val_accuracy: 0.2086\n",
            "Epoch 35/50\n",
            "156/156 [==============================] - 17s 106ms/step - loss: 2.3602 - accuracy: 0.3689 - val_loss: 4.3082 - val_accuracy: 0.2137\n",
            "Epoch 36/50\n",
            "156/156 [==============================] - 17s 106ms/step - loss: 2.3106 - accuracy: 0.3785 - val_loss: 4.3233 - val_accuracy: 0.2129\n",
            "Epoch 37/50\n",
            "156/156 [==============================] - 17s 111ms/step - loss: 2.2730 - accuracy: 0.3874 - val_loss: 4.3492 - val_accuracy: 0.2126\n",
            "Epoch 38/50\n",
            "156/156 [==============================] - 16s 106ms/step - loss: 2.2413 - accuracy: 0.3928 - val_loss: 4.3811 - val_accuracy: 0.2084\n",
            "Epoch 39/50\n",
            "156/156 [==============================] - 17s 106ms/step - loss: 2.2095 - accuracy: 0.3996 - val_loss: 4.3837 - val_accuracy: 0.2111\n",
            "Epoch 40/50\n",
            "156/156 [==============================] - 17s 106ms/step - loss: 2.1780 - accuracy: 0.4059 - val_loss: 4.4038 - val_accuracy: 0.2102\n",
            "Epoch 41/50\n",
            "156/156 [==============================] - 16s 105ms/step - loss: 2.1461 - accuracy: 0.4131 - val_loss: 4.4731 - val_accuracy: 0.2033\n",
            "Epoch 42/50\n",
            "156/156 [==============================] - 17s 106ms/step - loss: 2.1211 - accuracy: 0.4180 - val_loss: 4.4456 - val_accuracy: 0.2110\n",
            "Epoch 43/50\n",
            "156/156 [==============================] - 16s 106ms/step - loss: 2.0892 - accuracy: 0.4255 - val_loss: 4.4633 - val_accuracy: 0.2099\n",
            "Epoch 44/50\n",
            "156/156 [==============================] - 16s 105ms/step - loss: 2.0584 - accuracy: 0.4321 - val_loss: 4.4946 - val_accuracy: 0.2095\n",
            "Epoch 45/50\n",
            "156/156 [==============================] - 16s 105ms/step - loss: 2.0315 - accuracy: 0.4380 - val_loss: 4.5130 - val_accuracy: 0.2102\n",
            "Epoch 46/50\n",
            "156/156 [==============================] - 16s 105ms/step - loss: 2.0039 - accuracy: 0.4434 - val_loss: 4.5372 - val_accuracy: 0.2074\n",
            "Epoch 47/50\n",
            "156/156 [==============================] - 16s 105ms/step - loss: 1.9765 - accuracy: 0.4497 - val_loss: 4.5557 - val_accuracy: 0.2089\n",
            "Epoch 48/50\n",
            "156/156 [==============================] - 16s 105ms/step - loss: 1.9507 - accuracy: 0.4556 - val_loss: 4.5780 - val_accuracy: 0.2087\n",
            "Epoch 49/50\n",
            "156/156 [==============================] - 16s 105ms/step - loss: 1.9248 - accuracy: 0.4621 - val_loss: 4.5955 - val_accuracy: 0.2080\n",
            "Epoch 50/50\n",
            "156/156 [==============================] - 16s 104ms/step - loss: 1.8982 - accuracy: 0.4676 - val_loss: 4.6171 - val_accuracy: 0.2064\n"
          ]
        }
      ]
    },
    {
      "cell_type": "code",
      "source": [
        "# Plot accuracy and loss vs epoch.\n",
        "plt.figure(figsize=(12, 6))\n",
        "plt.subplot(1, 2, 1)\n",
        "plt.plot(history.history['accuracy'])\n",
        "plt.plot(history.history['val_accuracy'])\n",
        "plt.title('Model Accuracy')\n",
        "plt.ylabel('Accuracy')\n",
        "plt.xlabel('Epoch')\n",
        "plt.legend(['Train Accuracy', 'Validation Accuracy'])\n",
        "plt.grid()\n",
        "\n",
        "plt.subplot(1, 2, 2)\n",
        "plt.plot(history.history['loss'], color='red')\n",
        "plt.title('Model Loss')\n",
        "plt.ylabel('Loss')\n",
        "plt.xlabel('Epoch')\n",
        "plt.grid()\n",
        "\n",
        "plt.show()"
      ],
      "metadata": {
        "colab": {
          "base_uri": "https://localhost:8080/",
          "height": 404
        },
        "id": "JxPtL4OvwKY9",
        "outputId": "b70f7f1d-c5af-46f9-82da-b51554ed103e"
      },
      "execution_count": null,
      "outputs": [
        {
          "output_type": "display_data",
          "data": {
            "text/plain": [
              "<Figure size 864x432 with 2 Axes>"
            ],
            "image/png": "[encoded data removed]"
          },
          "metadata": {
            "needs_background": "light"
          }
        }
      ]
    },
    {
      "cell_type": "code",
      "source": [
        "# Define a function to generate new sequences of data given an input sequence.\n",
        "def generate_sequence(infenc, infdec, source_text, n_steps, temprature=1):\n",
        "    # Tokenize source text. \n",
        "    input = tokenizer.texts_to_sequences([source_text])[0]\n",
        "    input = pad_sequences([input], maxlen=max_seq_len, padding='post')\n",
        "    # Encode the input and compute the states of the encoder.\n",
        "    state = infenc.predict(input, verbose=0)\n",
        "    # Start of sequence input for the decoder.\n",
        "    target_seq = np.zeros((1, max_seq_len))\n",
        "    # Collect predictions.\n",
        "    output = []\n",
        "    for t in range(n_steps):\n",
        "        # Predict next word.\n",
        "        yhat, h, c = infdec.predict([target_seq] + state, verbose=0)\n",
        "        # Sample from the decoder output.\n",
        "        p = np.exp(np.log(yhat[0,0,:])/temprature)\n",
        "        p = p/np.sum(p)\n",
        "        sample = np.random.choice(vocab_size, p=p)\n",
        "        output.append(sample)\n",
        "        # Update states.\n",
        "        state = [h, c]\n",
        "        # Update target sequence.\n",
        "        target_seq = np.ones((1, max_seq_len)) * sample\n",
        "    return np.array(output)"
      ],
      "metadata": {
        "id": "xB_TvpUg7uTi"
      },
      "execution_count": null,
      "outputs": []
    },
    {
      "cell_type": "code",
      "source": [
        "# Generate beyts for some random given inputs.\n",
        "idxs = np.random.default_rng(seed=123).integers(len(beyts), size=5)\n",
        "\n",
        "for i in idxs:\n",
        "    l = len(beyts[i].split())\n",
        "    beyt_gen = generate_sequence(encoder_model, decoder_model, beyts[i], l)\n",
        "    beyt_gen = tokenizer.sequences_to_texts([beyt_gen+1])\n",
        "    print('Input Beyt:')\n",
        "    print(beyts[i])\n",
        "    print('Generated Beyt:')\n",
        "    print(beyt_gen[0])\n",
        "    print('\\n')"
      ],
      "metadata": {
        "colab": {
          "base_uri": "https://localhost:8080/"
        },
        "id": "gYfEQQ8R7uQv",
        "outputId": "a7f42b31-ca2d-49e5-9cd1-4e80bf540004"
      },
      "execution_count": null,
      "outputs": [
        {
          "output_type": "stream",
          "name": "stdout",
          "text": [
            "Input Beyt:\n",
            "همی زین فزون بایدم لشکری هم از مردم و هم ز دیو و پری\n",
            "Generated Beyt:\n",
            "یازند این و اینسان و نسازد و گرفتار و تیرها و داناترید و گلستانست\n",
            "\n",
            "\n",
            "Input Beyt:\n",
            "چو نزدیکی چشمهٔ سو رسید برون آمد از مهد و دریا بدید\n",
            "Generated Beyt:\n",
            "دایگانش میش و منظرش و بخفتان و درخشان و گروگان و مکش\n",
            "\n",
            "\n",
            "Input Beyt:\n",
            "ترا گفتم از دانش آسمان زدایم دلت تا شوی بی گمان\n",
            "Generated Beyt:\n",
            "هل بد و مرده و درآشتی و توبخت و آسوده و\n",
            "\n",
            "\n",
            "Input Beyt:\n",
            "میان سپهدار و آن سرو بن زنی بود گوینده شیرین سخن\n",
            "Generated Beyt:\n",
            "آگند آفرین و دوده و وتوشه و بمشت و گوار و\n",
            "\n",
            "\n",
            "Input Beyt:\n",
            "شناسد که این تخت و این فرهی کرا بود و دیهیم شاهنشهی\n",
            "Generated Beyt:\n",
            "داشت روی و شگفتید و زندانها و نخشب و پیرداننده و باکس\n",
            "\n",
            "\n"
          ]
        }
      ]
    },
    {
      "cell_type": "code",
      "source": [
        "# Save the models.\n",
        "model.save('model_lstm.h5')\n",
        "encoder_model.save('encoder_model_lstm.h5')\n",
        "decoder_model.save('decoder_model_lstm.h5')"
      ],
      "metadata": {
        "colab": {
          "base_uri": "https://localhost:8080/"
        },
        "id": "N0O_icWwM2bs",
        "outputId": "04c8fbe0-4806-41ba-de48-45afdd2757ba"
      },
      "execution_count": null,
      "outputs": [
        {
          "output_type": "stream",
          "name": "stderr",
          "text": [
            "WARNING:tensorflow:Compiled the loaded model, but the compiled metrics have yet to be built. `model.compile_metrics` will be empty until you train or evaluate the model.\n",
            "WARNING:tensorflow:Compiled the loaded model, but the compiled metrics have yet to be built. `model.compile_metrics` will be empty until you train or evaluate the model.\n"
          ]
        }
      ]
    },
    {
      "cell_type": "markdown",
      "source": [
        "# Part B: Bidirectional GRU"
      ],
      "metadata": {
        "id": "8nFLdXV68n5B"
      }
    },
    {
      "cell_type": "markdown",
      "source": [
        "Now, we define an encoder-decoder model with bidirectional GRU modules and train it with teacher forcing method. Like the previous part, we use a 256D space for embedding words."
      ],
      "metadata": {
        "id": "Az0LJ7F4Lgrz"
      }
    },
    {
      "cell_type": "code",
      "source": [
        "n_embed = 256\n",
        "\n",
        "# Training encoder\n",
        "encoder_inputs = Input(shape=(max_seq_len))\n",
        "embedding_layer = Embedding(vocab_size, n_embed, input_length=max_seq_len, mask_zero=True)\n",
        "encoder_inputs_embedded = embedding_layer(encoder_inputs)\n",
        "encoder = Bidirectional(GRU(n_embed, return_state=True))\n",
        "encoder_outputs, state_h, state_c = encoder(encoder_inputs_embedded)\n",
        "encoder_states = [state_h, state_c]\n",
        "# Training decoder\n",
        "decoder_inputs = Input(shape=(max_seq_len))\n",
        "decoder_inputs_embedded = embedding_layer(decoder_inputs)\n",
        "decoder = Bidirectional(GRU(n_embed, return_sequences=True, return_state=True))\n",
        "decoder_outputs, _, _ = decoder(decoder_inputs_embedded, initial_state=encoder_states)\n",
        "decoder_dense = Dense(vocab_size, activation='softmax')\n",
        "decoder_outputs = decoder_dense(decoder_outputs)\n",
        "model = Model([encoder_inputs, decoder_inputs], decoder_outputs)\n",
        "\n",
        "\n",
        "# Inference encoder\n",
        "encoder_model = Model(encoder_inputs, encoder_states)\n",
        "# Inference decoder\n",
        "decoder_state_input_h = Input(shape=(n_embed))\n",
        "decoder_state_input_c = Input(shape=(n_embed))\n",
        "decoder_states_inputs = [decoder_state_input_h, decoder_state_input_c]\n",
        "decoder_outputs, state_h, state_c = decoder(decoder_inputs_embedded, initial_state=decoder_states_inputs)\n",
        "decoder_states = [state_h, state_c]\n",
        "decoder_outputs = decoder_dense(decoder_outputs)\n",
        "decoder_model = Model([decoder_inputs] + decoder_states_inputs, [decoder_outputs] + decoder_states)"
      ],
      "metadata": {
        "id": "UndnIYW1bg1m"
      },
      "execution_count": null,
      "outputs": []
    },
    {
      "cell_type": "code",
      "source": [
        "# Use ADAM as the optimizer and accuracy as the metric.\n",
        "model.compile(optimizer='adam', loss='sparse_categorical_crossentropy', metrics=['accuracy'])\n",
        "# Print the model architecture.\n",
        "print(model.summary())"
      ],
      "metadata": {
        "colab": {
          "base_uri": "https://localhost:8080/"
        },
        "outputId": "6c5a97cc-9747-4f77-cc1a-28fd3ba96197",
        "id": "JXS5nYnL_HBR"
      },
      "execution_count": null,
      "outputs": [
        {
          "output_type": "stream",
          "name": "stdout",
          "text": [
            "Model: \"model_6\"\n",
            "__________________________________________________________________________________________________\n",
            " Layer (type)                   Output Shape         Param #     Connected to                     \n",
            "==================================================================================================\n",
            " input_10 (InputLayer)          [(None, 16)]         0           []                               \n",
            "                                                                                                  \n",
            " input_9 (InputLayer)           [(None, 16)]         0           []                               \n",
            "                                                                                                  \n",
            " embedding_2 (Embedding)        (None, 16, 256)      4609792     ['input_9[0][0]',                \n",
            "                                                                  'input_10[0][0]']               \n",
            "                                                                                                  \n",
            " bidirectional_2 (Bidirectional  [(None, 512),       789504      ['embedding_2[0][0]']            \n",
            " )                               (None, 256),                                                     \n",
            "                                 (None, 256)]                                                     \n",
            "                                                                                                  \n",
            " bidirectional_3 (Bidirectional  [(None, 16, 512),   789504      ['embedding_2[1][0]',            \n",
            " )                               (None, 256),                     'bidirectional_2[0][1]',        \n",
            "                                 (None, 256)]                     'bidirectional_2[0][2]']        \n",
            "                                                                                                  \n",
            " dense_2 (Dense)                (None, 16, 18007)    9237591     ['bidirectional_3[0][0]']        \n",
            "                                                                                                  \n",
            "==================================================================================================\n",
            "Total params: 15,426,391\n",
            "Trainable params: 15,426,391\n",
            "Non-trainable params: 0\n",
            "__________________________________________________________________________________________________\n",
            "None\n"
          ]
        }
      ]
    },
    {
      "cell_type": "code",
      "source": [
        "# Plot the model architecture.\n",
        "plot_model(model, to_file='BiGRU.png')"
      ],
      "metadata": {
        "colab": {
          "base_uri": "https://localhost:8080/",
          "height": 466
        },
        "id": "I1haHXaCMtOy",
        "outputId": "f7b7563a-f635-45d3-a26d-12f0b6700bd0"
      },
      "execution_count": null,
      "outputs": [
        {
          "output_type": "execute_result",
          "data": {
            "image/png": "[encoded data removed]",
            "text/plain": [
              "<IPython.core.display.Image object>"
            ]
          },
          "metadata": {},
          "execution_count": 28
        }
      ]
    },
    {
      "cell_type": "code",
      "source": [
        "# Train the model.\n",
        "history = model.fit([beyts_in, beyts_out_tf], beyts_out, validation_split=0.2, epochs=25, batch_size=128)"
      ],
      "metadata": {
        "colab": {
          "base_uri": "https://localhost:8080/"
        },
        "outputId": "3045cd51-d21e-44a3-e1ec-14224a499a39",
        "id": "ZWesHAtk_HBl"
      },
      "execution_count": null,
      "outputs": [
        {
          "output_type": "stream",
          "name": "stdout",
          "text": [
            "Epoch 1/25\n",
            "156/156 [==============================] - 42s 190ms/step - loss: 4.7435 - accuracy: 0.1400 - val_loss: 3.9827 - val_accuracy: 0.1926\n",
            "Epoch 2/25\n",
            "156/156 [==============================] - 25s 159ms/step - loss: 3.1188 - accuracy: 0.3321 - val_loss: 2.5977 - val_accuracy: 0.4873\n",
            "Epoch 3/25\n",
            "156/156 [==============================] - 25s 159ms/step - loss: 1.7961 - accuracy: 0.6252 - val_loss: 1.7309 - val_accuracy: 0.6942\n",
            "Epoch 4/25\n",
            "156/156 [==============================] - 25s 161ms/step - loss: 1.0567 - accuracy: 0.7886 - val_loss: 1.3332 - val_accuracy: 0.7885\n",
            "Epoch 5/25\n",
            "156/156 [==============================] - 25s 160ms/step - loss: 0.6532 - accuracy: 0.8703 - val_loss: 1.1338 - val_accuracy: 0.8333\n",
            "Epoch 6/25\n",
            "156/156 [==============================] - 25s 161ms/step - loss: 0.4043 - accuracy: 0.9211 - val_loss: 1.0422 - val_accuracy: 0.8559\n",
            "Epoch 7/25\n",
            "156/156 [==============================] - 25s 159ms/step - loss: 0.2344 - accuracy: 0.9640 - val_loss: 0.9824 - val_accuracy: 0.8713\n",
            "Epoch 8/25\n",
            "156/156 [==============================] - 25s 160ms/step - loss: 0.1185 - accuracy: 0.9914 - val_loss: 0.9571 - val_accuracy: 0.8790\n",
            "Epoch 9/25\n",
            "156/156 [==============================] - 25s 160ms/step - loss: 0.0574 - accuracy: 0.9984 - val_loss: 0.9429 - val_accuracy: 0.8838\n",
            "Epoch 10/25\n",
            "156/156 [==============================] - 26s 164ms/step - loss: 0.0329 - accuracy: 0.9991 - val_loss: 0.9368 - val_accuracy: 0.8870\n",
            "Epoch 11/25\n",
            "156/156 [==============================] - 26s 164ms/step - loss: 0.0225 - accuracy: 0.9993 - val_loss: 0.9285 - val_accuracy: 0.8883\n",
            "Epoch 12/25\n",
            "156/156 [==============================] - 25s 163ms/step - loss: 0.0167 - accuracy: 0.9994 - val_loss: 0.9262 - val_accuracy: 0.8894\n",
            "Epoch 13/25\n",
            "156/156 [==============================] - 25s 162ms/step - loss: 0.0132 - accuracy: 0.9995 - val_loss: 0.9216 - val_accuracy: 0.8902\n",
            "Epoch 14/25\n",
            "156/156 [==============================] - 25s 160ms/step - loss: 0.0106 - accuracy: 0.9996 - val_loss: 0.9198 - val_accuracy: 0.8909\n",
            "Epoch 15/25\n",
            "156/156 [==============================] - 26s 164ms/step - loss: 0.0087 - accuracy: 0.9997 - val_loss: 0.9180 - val_accuracy: 0.8914\n",
            "Epoch 16/25\n",
            "156/156 [==============================] - 25s 160ms/step - loss: 0.0073 - accuracy: 0.9998 - val_loss: 0.9203 - val_accuracy: 0.8917\n",
            "Epoch 17/25\n",
            "156/156 [==============================] - 25s 162ms/step - loss: 0.0061 - accuracy: 0.9999 - val_loss: 0.9182 - val_accuracy: 0.8920\n",
            "Epoch 18/25\n",
            "156/156 [==============================] - 25s 161ms/step - loss: 0.0052 - accuracy: 0.9999 - val_loss: 0.9194 - val_accuracy: 0.8925\n",
            "Epoch 19/25\n",
            "156/156 [==============================] - 25s 163ms/step - loss: 0.0045 - accuracy: 1.0000 - val_loss: 0.9135 - val_accuracy: 0.8929\n",
            "Epoch 20/25\n",
            "156/156 [==============================] - 26s 164ms/step - loss: 0.0038 - accuracy: 1.0000 - val_loss: 0.9169 - val_accuracy: 0.8931\n",
            "Epoch 21/25\n",
            "156/156 [==============================] - 25s 162ms/step - loss: 0.0033 - accuracy: 1.0000 - val_loss: 0.9169 - val_accuracy: 0.8932\n",
            "Epoch 22/25\n",
            "156/156 [==============================] - 25s 161ms/step - loss: 0.0029 - accuracy: 1.0000 - val_loss: 0.9150 - val_accuracy: 0.8935\n",
            "Epoch 23/25\n",
            "156/156 [==============================] - 25s 161ms/step - loss: 0.0026 - accuracy: 1.0000 - val_loss: 0.9160 - val_accuracy: 0.8937\n",
            "Epoch 24/25\n",
            "156/156 [==============================] - 25s 163ms/step - loss: 0.0023 - accuracy: 1.0000 - val_loss: 0.9170 - val_accuracy: 0.8937\n",
            "Epoch 25/25\n",
            "156/156 [==============================] - 26s 168ms/step - loss: 0.0020 - accuracy: 1.0000 - val_loss: 0.9166 - val_accuracy: 0.8940\n"
          ]
        }
      ]
    },
    {
      "cell_type": "code",
      "source": [
        "# Plot accuracy and loss vs epoch.\n",
        "plt.figure(figsize=(12, 6))\n",
        "plt.subplot(1, 2, 1)\n",
        "plt.plot(history.history['accuracy'])\n",
        "plt.plot(history.history['val_accuracy'])\n",
        "plt.title('Model Accuracy')\n",
        "plt.ylabel('Accuracy')\n",
        "plt.xlabel('Epoch')\n",
        "plt.legend(['Train Accuracy', 'Validation Accuracy'])\n",
        "plt.grid()\n",
        "\n",
        "plt.subplot(1, 2, 2)\n",
        "plt.plot(history.history['loss'], color='red')\n",
        "plt.title('Model Loss')\n",
        "plt.ylabel('Loss')\n",
        "plt.xlabel('Epoch')\n",
        "plt.grid()\n",
        "\n",
        "plt.show()"
      ],
      "metadata": {
        "colab": {
          "base_uri": "https://localhost:8080/",
          "height": 404
        },
        "id": "nkEbO2XfPx2h",
        "outputId": "d3f8f414-6497-4f61-e79b-ea14307dc985"
      },
      "execution_count": null,
      "outputs": [
        {
          "output_type": "display_data",
          "data": {
            "text/plain": [
              "<Figure size 864x432 with 2 Axes>"
            ],
            "image/png": "[encoded data removed]"
          },
          "metadata": {
            "needs_background": "light"
          }
        }
      ]
    },
    {
      "cell_type": "markdown",
      "source": [
        "We can see that this model has a much higher/lower accuracy/loss compared to the LSTM model. This improvment can be due to the fact that this model has a bidirectional architecture and thus it can better understand the semantic relationship between the words of a beyt."
      ],
      "metadata": {
        "id": "zWDS4PBIMk7q"
      }
    },
    {
      "cell_type": "code",
      "source": [
        "# Generate beyts for some random given inputs.\n",
        "idxs = np.random.default_rng(seed=123).integers(len(beyts), size=5)\n",
        "\n",
        "for i in idxs:\n",
        "    l = len(beyts[i].split())\n",
        "    beyt_gen = generate_sequence(encoder_model, decoder_model, beyts[i], l, 4)\n",
        "    beyt_gen = tokenizer.sequences_to_texts([beyt_gen+1])\n",
        "    print('Input Beyt:')\n",
        "    print(beyts[i])\n",
        "    print('Generated Beyt:')\n",
        "    print(beyt_gen[0])\n",
        "    print('\\n')"
      ],
      "metadata": {
        "colab": {
          "base_uri": "https://localhost:8080/"
        },
        "id": "D-6smxiObglS",
        "outputId": "ebc963fa-af1f-4109-f818-68ef6d535465"
      },
      "execution_count": null,
      "outputs": [
        {
          "output_type": "stream",
          "name": "stdout",
          "text": [
            "Input Beyt:\n",
            "همی زین فزون بایدم لشکری هم از مردم و هم ز دیو و پری\n",
            "Generated Beyt:\n",
            "بردرد جاروب بشکنی جویبارست وخیل کراشاد آبتین بدوخت سانست یکدگر جنگست فرمانروا سرای دومنزل\n",
            "\n",
            "\n",
            "Input Beyt:\n",
            "چو نزدیکی چشمهٔ سو رسید برون آمد از مهد و دریا بدید\n",
            "Generated Beyt:\n",
            "بازشو آشناه دورش زمرد ارد آنکس بکینه بدانی بدسگال بازجست باده یابند\n",
            "\n",
            "\n",
            "Input Beyt:\n",
            "ترا گفتم از دانش آسمان زدایم دلت تا شوی بی گمان\n",
            "Generated Beyt:\n",
            "نمود پوست رخ هرسو سیندخت زرور نماندی کینهٔ نیارست لشکرش دانیم\n",
            "\n",
            "\n",
            "Input Beyt:\n",
            "میان سپهدار و آن سرو بن زنی بود گوینده شیرین سخن\n",
            "Generated Beyt:\n",
            "افسانه بیناد کردوچه دشمنند ومسکین نشستنش ازار کت برافراخت زبانگ بارکن\n",
            "\n",
            "\n",
            "Input Beyt:\n",
            "شناسد که این تخت و این فرهی کرا بود و دیهیم شاهنشهی\n",
            "Generated Beyt:\n",
            "جریره بدتنست فرایندهٔ گزاریدن نامبردار خونشان شدی بخشودنیست نبودی پهلوست کنارنگ پران\n",
            "\n",
            "\n"
          ]
        }
      ]
    },
    {
      "cell_type": "markdown",
      "source": [
        "Although the model has a high accuracy, we can see that the generated beyts don't sound natural. We can improve the generated beyts by using other methods (e.g., n-grams) and architectures to build and train a better model."
      ],
      "metadata": {
        "id": "qVtZxJ2fN-hW"
      }
    },
    {
      "cell_type": "code",
      "source": [
        "# Save the models.\n",
        "model.save('model_bigru.h5')\n",
        "encoder_model.save('encoder_model_bigru.h5')\n",
        "decoder_model.save('decoder_model_bigru.h5')"
      ],
      "metadata": {
        "colab": {
          "base_uri": "https://localhost:8080/"
        },
        "id": "zf0D28laNYNQ",
        "outputId": "73b97fff-2d29-4fd6-b5db-401552fa3a43"
      },
      "execution_count": null,
      "outputs": [
        {
          "output_type": "stream",
          "name": "stderr",
          "text": [
            "WARNING:tensorflow:Compiled the loaded model, but the compiled metrics have yet to be built. `model.compile_metrics` will be empty until you train or evaluate the model.\n",
            "WARNING:tensorflow:Compiled the loaded model, but the compiled metrics have yet to be built. `model.compile_metrics` will be empty until you train or evaluate the model.\n"
          ]
        }
      ]
    }
  ]
}